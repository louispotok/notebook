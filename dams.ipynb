{
 "cells": [
  {
   "cell_type": "code",
   "execution_count": 2,
   "metadata": {},
   "outputs": [],
   "source": [
    "import geopandas as gpd"
   ]
  },
  {
   "cell_type": "code",
   "execution_count": null,
   "metadata": {},
   "outputs": [],
   "source": []
  },
  {
   "cell_type": "code",
   "execution_count": 4,
   "metadata": {},
   "outputs": [],
   "source": [
    "\n",
    "dams = gpd.read_file('/home/louispotok/Downloads/GRanD_Version_1_3/GRanD_dams_v1_3.shp')"
   ]
  },
  {
   "cell_type": "code",
   "execution_count": 5,
   "metadata": {},
   "outputs": [
    {
     "data": {
      "text/plain": [
       "(7320, 59)"
      ]
     },
     "execution_count": 5,
     "metadata": {},
     "output_type": "execute_result"
    }
   ],
   "source": [
    "dams.shape"
   ]
  },
  {
   "cell_type": "code",
   "execution_count": 6,
   "metadata": {},
   "outputs": [
    {
     "data": {
      "text/html": [
       "<div>\n",
       "<style scoped>\n",
       "    .dataframe tbody tr th:only-of-type {\n",
       "        vertical-align: middle;\n",
       "    }\n",
       "\n",
       "    .dataframe tbody tr th {\n",
       "        vertical-align: top;\n",
       "    }\n",
       "\n",
       "    .dataframe thead th {\n",
       "        text-align: right;\n",
       "    }\n",
       "</style>\n",
       "<table border=\"1\" class=\"dataframe\">\n",
       "  <thead>\n",
       "    <tr style=\"text-align: right;\">\n",
       "      <th></th>\n",
       "      <th>GRAND_ID</th>\n",
       "      <th>RES_NAME</th>\n",
       "      <th>DAM_NAME</th>\n",
       "      <th>ALT_NAME</th>\n",
       "      <th>RIVER</th>\n",
       "      <th>ALT_RIVER</th>\n",
       "      <th>MAIN_BASIN</th>\n",
       "      <th>SUB_BASIN</th>\n",
       "      <th>NEAR_CITY</th>\n",
       "      <th>ALT_CITY</th>\n",
       "      <th>...</th>\n",
       "      <th>MULTI_DAMS</th>\n",
       "      <th>TIMELINE</th>\n",
       "      <th>COMMENTS</th>\n",
       "      <th>URL</th>\n",
       "      <th>QUALITY</th>\n",
       "      <th>EDITOR</th>\n",
       "      <th>LONG_DD</th>\n",
       "      <th>LAT_DD</th>\n",
       "      <th>POLY_SRC</th>\n",
       "      <th>geometry</th>\n",
       "    </tr>\n",
       "  </thead>\n",
       "  <tbody>\n",
       "    <tr>\n",
       "      <th>0</th>\n",
       "      <td>1</td>\n",
       "      <td>None</td>\n",
       "      <td>Terror Lake</td>\n",
       "      <td>None</td>\n",
       "      <td>Terror River</td>\n",
       "      <td>Marmont Bay</td>\n",
       "      <td>None</td>\n",
       "      <td>None</td>\n",
       "      <td>None</td>\n",
       "      <td>None</td>\n",
       "      <td>...</td>\n",
       "      <td>None</td>\n",
       "      <td>None</td>\n",
       "      <td>None</td>\n",
       "      <td>http://www.ferc.gov/industries/hydropower/safe...</td>\n",
       "      <td>3: Fair</td>\n",
       "      <td>UNH</td>\n",
       "      <td>-153.026649</td>\n",
       "      <td>57.651485</td>\n",
       "      <td>NHD</td>\n",
       "      <td>POINT (-153.02665 57.65149)</td>\n",
       "    </tr>\n",
       "    <tr>\n",
       "      <th>1</th>\n",
       "      <td>2</td>\n",
       "      <td>None</td>\n",
       "      <td>Mayo</td>\n",
       "      <td>None</td>\n",
       "      <td>Mayo</td>\n",
       "      <td>None</td>\n",
       "      <td>None</td>\n",
       "      <td>None</td>\n",
       "      <td>Whitehorse</td>\n",
       "      <td>None</td>\n",
       "      <td>...</td>\n",
       "      <td>None</td>\n",
       "      <td>None</td>\n",
       "      <td>This dam is on Mayo Lake to control the releas...</td>\n",
       "      <td>http://www.yukon-news.com/opinions/columns/12540/</td>\n",
       "      <td>1: Verified</td>\n",
       "      <td>McGill-BL</td>\n",
       "      <td>-135.367048</td>\n",
       "      <td>63.774184</td>\n",
       "      <td>CanVec</td>\n",
       "      <td>POINT (-135.36705 63.77418)</td>\n",
       "    </tr>\n",
       "    <tr>\n",
       "      <th>2</th>\n",
       "      <td>3</td>\n",
       "      <td>None</td>\n",
       "      <td>Blue Lake</td>\n",
       "      <td>None</td>\n",
       "      <td>Sawmill Creek</td>\n",
       "      <td>None</td>\n",
       "      <td>None</td>\n",
       "      <td>None</td>\n",
       "      <td>None</td>\n",
       "      <td>None</td>\n",
       "      <td>...</td>\n",
       "      <td>None</td>\n",
       "      <td>None</td>\n",
       "      <td>None</td>\n",
       "      <td>http://www.ferc.gov/industries/hydropower/safe...</td>\n",
       "      <td>2: Good</td>\n",
       "      <td>UNH</td>\n",
       "      <td>-135.200305</td>\n",
       "      <td>57.062136</td>\n",
       "      <td>NHD</td>\n",
       "      <td>POINT (-135.20030 57.06214)</td>\n",
       "    </tr>\n",
       "    <tr>\n",
       "      <th>3</th>\n",
       "      <td>4</td>\n",
       "      <td>None</td>\n",
       "      <td>Green Lake</td>\n",
       "      <td>None</td>\n",
       "      <td>Vodopad River</td>\n",
       "      <td>None</td>\n",
       "      <td>None</td>\n",
       "      <td>None</td>\n",
       "      <td>None</td>\n",
       "      <td>None</td>\n",
       "      <td>...</td>\n",
       "      <td>None</td>\n",
       "      <td>None</td>\n",
       "      <td>None</td>\n",
       "      <td>http://www.ferc.gov/industries/hydropower/safe...</td>\n",
       "      <td>2: Good</td>\n",
       "      <td>UNH</td>\n",
       "      <td>-135.112812</td>\n",
       "      <td>56.986785</td>\n",
       "      <td>NHD</td>\n",
       "      <td>POINT (-135.11281 56.98679)</td>\n",
       "    </tr>\n",
       "    <tr>\n",
       "      <th>4</th>\n",
       "      <td>5</td>\n",
       "      <td>Long Lake</td>\n",
       "      <td>Long Lake Dam</td>\n",
       "      <td>Snettisham Dam</td>\n",
       "      <td>Long River</td>\n",
       "      <td>None</td>\n",
       "      <td>None</td>\n",
       "      <td>None</td>\n",
       "      <td>None</td>\n",
       "      <td>None</td>\n",
       "      <td>...</td>\n",
       "      <td>None</td>\n",
       "      <td>None</td>\n",
       "      <td>None</td>\n",
       "      <td>http://www.dnr.state.ak.us/mlw/water/dams/</td>\n",
       "      <td>4: Poor</td>\n",
       "      <td>UNH</td>\n",
       "      <td>-133.728413</td>\n",
       "      <td>58.168750</td>\n",
       "      <td>NHD</td>\n",
       "      <td>POINT (-133.72841 58.16875)</td>\n",
       "    </tr>\n",
       "  </tbody>\n",
       "</table>\n",
       "<p>5 rows × 59 columns</p>\n",
       "</div>"
      ],
      "text/plain": [
       "   GRAND_ID   RES_NAME       DAM_NAME        ALT_NAME          RIVER  \\\n",
       "0         1       None    Terror Lake            None   Terror River   \n",
       "1         2       None           Mayo            None           Mayo   \n",
       "2         3       None      Blue Lake            None  Sawmill Creek   \n",
       "3         4       None     Green Lake            None  Vodopad River   \n",
       "4         5  Long Lake  Long Lake Dam  Snettisham Dam     Long River   \n",
       "\n",
       "     ALT_RIVER MAIN_BASIN SUB_BASIN   NEAR_CITY ALT_CITY  ... MULTI_DAMS  \\\n",
       "0  Marmont Bay       None      None        None     None  ...       None   \n",
       "1         None       None      None  Whitehorse     None  ...       None   \n",
       "2         None       None      None        None     None  ...       None   \n",
       "3         None       None      None        None     None  ...       None   \n",
       "4         None       None      None        None     None  ...       None   \n",
       "\n",
       "  TIMELINE                                           COMMENTS  \\\n",
       "0     None                                               None   \n",
       "1     None  This dam is on Mayo Lake to control the releas...   \n",
       "2     None                                               None   \n",
       "3     None                                               None   \n",
       "4     None                                               None   \n",
       "\n",
       "                                                 URL      QUALITY     EDITOR  \\\n",
       "0  http://www.ferc.gov/industries/hydropower/safe...      3: Fair        UNH   \n",
       "1  http://www.yukon-news.com/opinions/columns/12540/  1: Verified  McGill-BL   \n",
       "2  http://www.ferc.gov/industries/hydropower/safe...      2: Good        UNH   \n",
       "3  http://www.ferc.gov/industries/hydropower/safe...      2: Good        UNH   \n",
       "4         http://www.dnr.state.ak.us/mlw/water/dams/      4: Poor        UNH   \n",
       "\n",
       "      LONG_DD     LAT_DD  POLY_SRC                     geometry  \n",
       "0 -153.026649  57.651485       NHD  POINT (-153.02665 57.65149)  \n",
       "1 -135.367048  63.774184    CanVec  POINT (-135.36705 63.77418)  \n",
       "2 -135.200305  57.062136       NHD  POINT (-135.20030 57.06214)  \n",
       "3 -135.112812  56.986785       NHD  POINT (-135.11281 56.98679)  \n",
       "4 -133.728413  58.168750       NHD  POINT (-133.72841 58.16875)  \n",
       "\n",
       "[5 rows x 59 columns]"
      ]
     },
     "execution_count": 6,
     "metadata": {},
     "output_type": "execute_result"
    }
   ],
   "source": [
    "dams.head()"
   ]
  },
  {
   "cell_type": "code",
   "execution_count": 10,
   "metadata": {},
   "outputs": [
    {
     "data": {
      "text/html": [
       "<div>\n",
       "<style scoped>\n",
       "    .dataframe tbody tr th:only-of-type {\n",
       "        vertical-align: middle;\n",
       "    }\n",
       "\n",
       "    .dataframe tbody tr th {\n",
       "        vertical-align: top;\n",
       "    }\n",
       "\n",
       "    .dataframe thead th {\n",
       "        text-align: right;\n",
       "    }\n",
       "</style>\n",
       "<table border=\"1\" class=\"dataframe\">\n",
       "  <thead>\n",
       "    <tr style=\"text-align: right;\">\n",
       "      <th></th>\n",
       "      <th>DAM_NAME</th>\n",
       "      <th>CAP_MCM</th>\n",
       "    </tr>\n",
       "  </thead>\n",
       "  <tbody>\n",
       "    <tr>\n",
       "      <th>4491</th>\n",
       "      <td>Owen Falls</td>\n",
       "      <td>204800.0</td>\n",
       "    </tr>\n",
       "    <tr>\n",
       "      <th>4055</th>\n",
       "      <td>Kariba</td>\n",
       "      <td>185000.0</td>\n",
       "    </tr>\n",
       "    <tr>\n",
       "      <th>5054</th>\n",
       "      <td>Bratsk</td>\n",
       "      <td>169000.0</td>\n",
       "    </tr>\n",
       "    <tr>\n",
       "      <th>4477</th>\n",
       "      <td>High Aswan Dam</td>\n",
       "      <td>162000.0</td>\n",
       "    </tr>\n",
       "    <tr>\n",
       "      <th>3666</th>\n",
       "      <td>Akosombo Main Dam</td>\n",
       "      <td>148000.0</td>\n",
       "    </tr>\n",
       "  </tbody>\n",
       "</table>\n",
       "</div>"
      ],
      "text/plain": [
       "               DAM_NAME   CAP_MCM\n",
       "4491         Owen Falls  204800.0\n",
       "4055             Kariba  185000.0\n",
       "5054             Bratsk  169000.0\n",
       "4477     High Aswan Dam  162000.0\n",
       "3666  Akosombo Main Dam  148000.0"
      ]
     },
     "execution_count": 10,
     "metadata": {},
     "output_type": "execute_result"
    }
   ],
   "source": [
    "dams.sort_values(\"CAP_MCM\", ascending=False).head()[['DAM_NAME','CAP_MCM']]"
   ]
  },
  {
   "cell_type": "code",
   "execution_count": 15,
   "metadata": {},
   "outputs": [
    {
     "data": {
      "text/plain": [
       "-99      366\n",
       " 0         1\n",
       " 284       1\n",
       " 300       2\n",
       " 386       1\n",
       "        ... \n",
       " 2013     34\n",
       " 2014     19\n",
       " 2015     22\n",
       " 2016     24\n",
       " 2017      3\n",
       "Name: YEAR, Length: 184, dtype: int64"
      ]
     },
     "execution_count": 15,
     "metadata": {},
     "output_type": "execute_result"
    }
   ],
   "source": [
    "dams.YEAR.value_counts(dropna=False).sort_indexdex()"
   ]
  },
  {
   "cell_type": "code",
   "execution_count": 16,
   "metadata": {},
   "outputs": [
    {
     "data": {
      "text/plain": [
       "2: Good          3412\n",
       "3: Fair          3330\n",
       "4: Poor           463\n",
       "5: Unreliable      87\n",
       "1: Verified        28\n",
       "Name: QUALITY, dtype: int64"
      ]
     },
     "execution_count": 16,
     "metadata": {},
     "output_type": "execute_result"
    }
   ],
   "source": [
    "dams.QUALITY.value_counts()"
   ]
  },
  {
   "cell_type": "code",
   "execution_count": 17,
   "metadata": {},
   "outputs": [],
   "source": [
    "dams = dams[dams.QUALITY.str[:1].astype(int) < 4]"
   ]
  },
  {
   "cell_type": "code",
   "execution_count": 18,
   "metadata": {},
   "outputs": [
    {
     "data": {
      "text/plain": [
       "2: Good        3412\n",
       "3: Fair        3330\n",
       "1: Verified      28\n",
       "Name: QUALITY, dtype: int64"
      ]
     },
     "execution_count": 18,
     "metadata": {},
     "output_type": "execute_result"
    }
   ],
   "source": [
    "dams.QUALITY.value_counts()"
   ]
  },
  {
   "cell_type": "code",
   "execution_count": 20,
   "metadata": {},
   "outputs": [
    {
     "data": {
      "text/plain": [
       "-99      305\n",
       " 0         1\n",
       " 284       1\n",
       " 300       2\n",
       " 386       1\n",
       "        ... \n",
       " 2013     32\n",
       " 2014     12\n",
       " 2015     17\n",
       " 2016     13\n",
       " 2017      3\n",
       "Name: YEAR, Length: 180, dtype: int64"
      ]
     },
     "execution_count": 20,
     "metadata": {},
     "output_type": "execute_result"
    }
   ],
   "source": [
    "dams.YEAR.value_counts(dropna=False).sort_index()"
   ]
  },
  {
   "cell_type": "code",
   "execution_count": 21,
   "metadata": {},
   "outputs": [
    {
     "data": {
      "text/plain": [
       "-99      6762\n",
       " 2008       2\n",
       " 2007       1\n",
       " 1987       1\n",
       " 2002       1\n",
       " 2013       1\n",
       " 2005       1\n",
       " 2016       1\n",
       "Name: REM_YEAR, dtype: int64"
      ]
     },
     "execution_count": 21,
     "metadata": {},
     "output_type": "execute_result"
    }
   ],
   "source": [
    "dams.REM_YEAR.value_counts()"
   ]
  },
  {
   "cell_type": "code",
   "execution_count": 22,
   "metadata": {},
   "outputs": [
    {
     "data": {
      "text/plain": [
       "Modified              52\n",
       "Replaced               3\n",
       "Removed                3\n",
       "Subsumed               2\n",
       "Under construction     2\n",
       "Destroyed              2\n",
       "Planned                2\n",
       "Name: TIMELINE, dtype: int64"
      ]
     },
     "execution_count": 22,
     "metadata": {},
     "output_type": "execute_result"
    }
   ],
   "source": [
    "dams.TIMELINE.value_counts()"
   ]
  },
  {
   "cell_type": "code",
   "execution_count": null,
   "metadata": {},
   "outputs": [],
   "source": []
  }
 ],
 "metadata": {
  "kernelspec": {
   "display_name": "Python 3",
   "language": "python",
   "name": "python3"
  },
  "language_info": {
   "codemirror_mode": {
    "name": "ipython",
    "version": 3
   },
   "file_extension": ".py",
   "mimetype": "text/x-python",
   "name": "python",
   "nbconvert_exporter": "python",
   "pygments_lexer": "ipython3",
   "version": "3.8.1"
  }
 },
 "nbformat": 4,
 "nbformat_minor": 4
}
